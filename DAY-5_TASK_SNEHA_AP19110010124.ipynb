{
 "cells": [
  {
   "cell_type": "markdown",
   "id": "38a285cf",
   "metadata": {},
   "source": [
    "## T. Sneha Reddy\n",
    "## AP19110010124, CSE.\n",
    "### DAY-5 TASK(11/6/21)"
   ]
  },
  {
   "cell_type": "markdown",
   "id": "9b270f0b",
   "metadata": {},
   "source": [
    "**Task**\n",
    "\n",
    "Write a Python that takes two lists and returns True if they have at least one common member."
   ]
  },
  {
   "cell_type": "code",
   "execution_count": 1,
   "id": "6febfe50",
   "metadata": {},
   "outputs": [
    {
     "name": "stdout",
     "output_type": "stream",
     "text": [
      "Enter no of elements in list 1: 1\n",
      "Enter no of elements in list 2: 3\n",
      "Enter element in list 1 : 2\n",
      "List 1 :  [2]\n",
      "Enter element in list 2 : 1\n",
      "Enter element in list 2 : 5\n",
      "Enter element in list 2 : 6\n",
      "List 2 :  [1, 5, 6]\n",
      "\n",
      "\n",
      "False\n"
     ]
    }
   ],
   "source": [
    "a = int(input(\"Enter no of elements in list 1: \"))\n",
    "b = int(input(\"Enter no of elements in list 2: \"))\n",
    "list_1 = []\n",
    "list_2 = []\n",
    "for i in range(a):\n",
    "    c = int(input(\"Enter element in list 1 : \"))\n",
    "    list_1.append(c)\n",
    "print(\"List 1 : \",list_1 )\n",
    "for j in range(b):\n",
    "    d = int(input(\"Enter element in list 2 : \"))\n",
    "    list_2.append(d)\n",
    "print(\"List 2 : \",list_2 )\n",
    "\n",
    "result = False\n",
    "for x in list_1:\n",
    "    for y in list_2:\n",
    "        if x==y:\n",
    "            result=True\n",
    "print(\"\\n\")\n",
    "print(result)\n"
   ]
  },
  {
   "cell_type": "code",
   "execution_count": null,
   "id": "d6595cdf",
   "metadata": {},
   "outputs": [],
   "source": []
  }
 ],
 "metadata": {
  "kernelspec": {
   "display_name": "Python 3",
   "language": "python",
   "name": "python3"
  },
  "language_info": {
   "codemirror_mode": {
    "name": "ipython",
    "version": 3
   },
   "file_extension": ".py",
   "mimetype": "text/x-python",
   "name": "python",
   "nbconvert_exporter": "python",
   "pygments_lexer": "ipython3",
   "version": "3.8.8"
  }
 },
 "nbformat": 4,
 "nbformat_minor": 5
}
