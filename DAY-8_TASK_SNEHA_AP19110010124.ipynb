{
 "cells": [
  {
   "cell_type": "markdown",
   "id": "33660cc1",
   "metadata": {},
   "source": [
    "## T.Sneha Reddy\n",
    "## AP19110010124, CSE.\n",
    "### DAY-8 TASK(15/6/21)\n",
    "\n",
    "**Tasks**  \n",
    "1.Create a function for finding leap years within the given range  \n",
    "2.Create a function for getting armstrong number in given range  \n",
    "3.Create a function for getting prime numbers within a given range  \n",
    "4.Create a function for finding the count of elements in a given string \"Srm University\""
   ]
  },
  {
   "cell_type": "markdown",
   "id": "d843935a",
   "metadata": {},
   "source": [
    "**TASK 1**"
   ]
  },
  {
   "cell_type": "code",
   "execution_count": 3,
   "id": "d6ad26e6",
   "metadata": {},
   "outputs": [
    {
     "name": "stdout",
     "output_type": "stream",
     "text": [
      "1992\t1996\t2000\t2004\t2008\t2012\t"
     ]
    }
   ],
   "source": [
    "def leap_year(start,end):\n",
    "    for i in range(start,end):\n",
    "        if (i % 4 == 0 and i % 100 != 0) or (i % 400 == 0):\n",
    "            print(i, end = '\\t')\n",
    "leap_year(1990,2014)"
   ]
  },
  {
   "cell_type": "markdown",
   "id": "792f2347",
   "metadata": {},
   "source": [
    "**TASK 2**"
   ]
  },
  {
   "cell_type": "code",
   "execution_count": 5,
   "id": "03c7356e",
   "metadata": {},
   "outputs": [
    {
     "name": "stdout",
     "output_type": "stream",
     "text": [
      "153\n",
      "370\n",
      "371\n",
      "407\n"
     ]
    }
   ],
   "source": [
    "def armstrong(start,end):\n",
    "    for num in range(start,end + 1):  \n",
    "        sum = 0  \n",
    "        temp = num  \n",
    "        while temp > 0:  \n",
    "            digit = temp % 10  \n",
    "            sum += digit ** 3  \n",
    "            temp //= 10  \n",
    "        if num == sum:  \n",
    "            print(num) \n",
    "            \n",
    "armstrong(100,1000)"
   ]
  },
  {
   "cell_type": "markdown",
   "id": "47037833",
   "metadata": {},
   "source": [
    "**TASK 3**"
   ]
  },
  {
   "cell_type": "code",
   "execution_count": 6,
   "id": "ed52af9f",
   "metadata": {
    "scrolled": true
   },
   "outputs": [
    {
     "name": "stdout",
     "output_type": "stream",
     "text": [
      "2\n",
      "3\n",
      "5\n",
      "7\n",
      "11\n",
      "13\n",
      "17\n",
      "19\n",
      "23\n",
      "29\n",
      "31\n",
      "37\n",
      "41\n",
      "43\n",
      "47\n"
     ]
    }
   ],
   "source": [
    "def prime(start,end):\n",
    "    def prime1 (n):\n",
    "        count=0\n",
    "        for i in range(1,n+1):\n",
    "            if n%i==0:\n",
    "                count+=1\n",
    "        if count==2:\n",
    "            print(n)\n",
    "    for i in range(start,end+1):\n",
    "        prime1(i)\n",
    "prime(1,50)"
   ]
  },
  {
   "cell_type": "markdown",
   "id": "bfbc873b",
   "metadata": {},
   "source": [
    "**TASK 4**"
   ]
  },
  {
   "cell_type": "code",
   "execution_count": 7,
   "id": "8afdd653",
   "metadata": {},
   "outputs": [
    {
     "name": "stdout",
     "output_type": "stream",
     "text": [
      "{'S': 1, 'r': 2, 'm': 1, ' ': 1, 'U': 1, 'n': 1, 'i': 2, 'v': 1, 'e': 1, 's': 1, 't': 1, 'y': 1}\n"
     ]
    }
   ],
   "source": [
    "def count_string(s):\n",
    "    res={}\n",
    "    for i in s:\n",
    "        if i in res:\n",
    "            res[i]+=1\n",
    "        else:\n",
    "            res[i]=1\n",
    "    return res\n",
    "    \n",
    "\n",
    "print(count_string(\"Srm University\"))"
   ]
  }
 ],
 "metadata": {
  "kernelspec": {
   "display_name": "Python 3",
   "language": "python",
   "name": "python3"
  },
  "language_info": {
   "codemirror_mode": {
    "name": "ipython",
    "version": 3
   },
   "file_extension": ".py",
   "mimetype": "text/x-python",
   "name": "python",
   "nbconvert_exporter": "python",
   "pygments_lexer": "ipython3",
   "version": "3.8.8"
  }
 },
 "nbformat": 4,
 "nbformat_minor": 5
}
