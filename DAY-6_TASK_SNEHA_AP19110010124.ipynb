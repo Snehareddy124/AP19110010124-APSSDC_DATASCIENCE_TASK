{
 "cells": [
  {
   "cell_type": "markdown",
   "id": "7aadaae3",
   "metadata": {},
   "source": [
    "## T. Sneha Reddy\n",
    "## AP19110010124, CSE.\n",
    "### DAY-6 TASK(12/6/21)\n"
   ]
  },
  {
   "cell_type": "markdown",
   "id": "e036aff2",
   "metadata": {},
   "source": [
    "**Tasks**\n",
    "\n",
    "1.Write a Python script to print a dictionary where the keys are numbers between 1 and 15 (both included) and the values are square of keys\n",
    "\n",
    "2.Write a Python program to map two lists into a dictionary\n",
    "\n",
    "3.Write a Python program to sort a list alphabetically in a dictionary\n",
    "    \n",
    "   (i).input : {'n1': [2, 3, 1], 'n2': [5, 1, 2], 'n3': [3, 2, 4]}\n",
    "    \n",
    "   (ii).output : {'n1': [1, 2, 3], 'n2': [1, 2, 5], 'n3': [2, 3, 4]}"
   ]
  },
  {
   "cell_type": "markdown",
   "id": "c5c6a9f5",
   "metadata": {},
   "source": [
    "**TASK 1**\n"
   ]
  },
  {
   "cell_type": "code",
   "execution_count": 5,
   "id": "a1b478ff",
   "metadata": {},
   "outputs": [
    {
     "name": "stdout",
     "output_type": "stream",
     "text": [
      "{1: 1, 2: 4, 3: 9, 4: 16, 5: 25, 6: 36, 7: 49, 8: 64, 9: 81, 10: 100, 11: 121, 12: 144, 13: 169, 14: 196, 15: 225, 16: 256, 17: 289}\n"
     ]
    }
   ],
   "source": [
    "dict1={}\n",
    "for i in range(1,18):\n",
    "    dict1[i]=i**2\n",
    "print(dict1)"
   ]
  },
  {
   "cell_type": "markdown",
   "id": "c43400b4",
   "metadata": {},
   "source": [
    "**TASK 2**"
   ]
  },
  {
   "cell_type": "code",
   "execution_count": 3,
   "id": "c944fe97",
   "metadata": {},
   "outputs": [
    {
     "name": "stdout",
     "output_type": "stream",
     "text": [
      "{'x-men': {'Grey', 'Wolverine', 'Mystique', 'cyclops'}, 'Marvel': {'Iron Man', 'Thor', 'Hulk', 'Loki'}, 'DC': {'Aquaman', 'Flash', 'Wonder Woman', 'Superman'}}\n"
     ]
    }
   ],
   "source": [
    "list1=[\"x-men\", \"Marvel\", \"DC\"] \n",
    "list2=[{\"Wolverine\", \"Grey\", \"cyclops\",\"Mystique\"},\n",
    "       {\"Iron Man\", \"Thor\", \"Loki\", \"Hulk\"},\n",
    "       {\"Aquaman\", \"Wonder Woman\", \"Superman\", \"Flash\"}] \n",
    "       \n",
    "\n",
    "dict2=dict(zip(list1,list2))\n",
    "\n",
    "print(dict2)"
   ]
  },
  {
   "cell_type": "markdown",
   "id": "0b19991b",
   "metadata": {},
   "source": [
    "**TASK 3**"
   ]
  },
  {
   "cell_type": "code",
   "execution_count": 4,
   "id": "b470b9f7",
   "metadata": {},
   "outputs": [
    {
     "name": "stdout",
     "output_type": "stream",
     "text": [
      "{'l1': [4, 5, 9], 'l2': [1, 2, 4], 'l3': [3, 3, 3]}\n"
     ]
    }
   ],
   "source": [
    "dict3={\"l1\":[9,5,4],\"l2\":[4,1,2],\"l3\":[3,3,3]}\n",
    "\n",
    "for i in dict3.values():\n",
    "    i.sort()\n",
    "\n",
    "print(dict3)"
   ]
  }
 ],
 "metadata": {
  "kernelspec": {
   "display_name": "Python 3",
   "language": "python",
   "name": "python3"
  },
  "language_info": {
   "codemirror_mode": {
    "name": "ipython",
    "version": 3
   },
   "file_extension": ".py",
   "mimetype": "text/x-python",
   "name": "python",
   "nbconvert_exporter": "python",
   "pygments_lexer": "ipython3",
   "version": "3.8.8"
  }
 },
 "nbformat": 4,
 "nbformat_minor": 5
}
