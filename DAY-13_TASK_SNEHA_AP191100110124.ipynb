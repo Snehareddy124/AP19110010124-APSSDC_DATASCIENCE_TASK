{
 "cells": [
  {
   "cell_type": "markdown",
   "id": "4dca6248",
   "metadata": {},
   "source": [
    "## T. Sneha Reddy\n",
    "## AP19110010124, CSE\n",
    "### DAY-13 Task(21-06-2021)\n",
    "\n",
    "***TASK***:\n",
    "Create arrays with different numpy data types. *Numpy has 11 Datatypes and the characters used to represent them are:\n",
    "\n",
    "1.integer - i   \n",
    "2.boolean - b  \n",
    "3.unsigned integer - u  \n",
    "4.float - f  \n",
    "5.complex float - c  \n",
    "6.timedelta - m  \n",
    "7.datatime - M  \n",
    "8.object - O  \n",
    "9.string - S  \n",
    "10.unicode string - U  \n",
    "11.fixed chunk of memory for other type (void) - V  "
   ]
  },
  {
   "cell_type": "code",
   "execution_count": 1,
   "id": "e99ab35c",
   "metadata": {},
   "outputs": [],
   "source": [
    "import numpy as np"
   ]
  },
  {
   "cell_type": "markdown",
   "id": "08490c3b",
   "metadata": {},
   "source": [
    "1.Integer type"
   ]
  },
  {
   "cell_type": "code",
   "execution_count": 2,
   "id": "23cc6124",
   "metadata": {},
   "outputs": [
    {
     "name": "stdout",
     "output_type": "stream",
     "text": [
      "[1 2 3 4]\n",
      "int32\n"
     ]
    }
   ],
   "source": [
    "arr = np.array([1, 2, 3, 4], dtype='i')\n",
    "\n",
    "print(arr)\n",
    "print(arr.dtype)"
   ]
  },
  {
   "cell_type": "markdown",
   "id": "bcfd9a9d",
   "metadata": {},
   "source": [
    "2.Boolean type"
   ]
  },
  {
   "cell_type": "code",
   "execution_count": 3,
   "id": "8812ed65",
   "metadata": {},
   "outputs": [
    {
     "name": "stdout",
     "output_type": "stream",
     "text": [
      "[ True  True  True  True]\n",
      "bool\n"
     ]
    }
   ],
   "source": [
    "arr = np.array([1, 2, 3, 4], dtype='bool')\n",
    "\n",
    "print(arr)\n",
    "print(arr.dtype)"
   ]
  },
  {
   "cell_type": "markdown",
   "id": "eb9a86f1",
   "metadata": {},
   "source": [
    "3.Unsigned integer type"
   ]
  },
  {
   "cell_type": "code",
   "execution_count": 4,
   "id": "6cd744ea",
   "metadata": {},
   "outputs": [
    {
     "name": "stdout",
     "output_type": "stream",
     "text": [
      "[1 2 3 4]\n",
      "uint32\n"
     ]
    }
   ],
   "source": [
    "arr = np.array([1, 2, 3, 4], dtype=np.uintc)\n",
    "\n",
    "print(arr)\n",
    "print(arr.dtype)"
   ]
  },
  {
   "cell_type": "markdown",
   "id": "456352cb",
   "metadata": {},
   "source": [
    "4.Float type"
   ]
  },
  {
   "cell_type": "code",
   "execution_count": 5,
   "id": "9d141980",
   "metadata": {},
   "outputs": [
    {
     "name": "stdout",
     "output_type": "stream",
     "text": [
      "[1. 2. 3. 4.]\n",
      "float32\n"
     ]
    }
   ],
   "source": [
    "arr = np.array([1, 2, 3, 4], dtype='f')\n",
    "\n",
    "print(arr)\n",
    "print(arr.dtype)"
   ]
  },
  {
   "cell_type": "markdown",
   "id": "ff72266e",
   "metadata": {},
   "source": [
    "5.Complex float type"
   ]
  },
  {
   "cell_type": "code",
   "execution_count": 6,
   "id": "1468bc8b",
   "metadata": {},
   "outputs": [
    {
     "name": "stdout",
     "output_type": "stream",
     "text": [
      "[1.+0.j 2.+0.j 3.+0.j 4.+0.j]\n",
      "complex64\n"
     ]
    }
   ],
   "source": [
    "arr = np.array([1, 2, 3, 4], dtype=np.csingle)\n",
    "\n",
    "print(arr)\n",
    "print(arr.dtype)"
   ]
  },
  {
   "cell_type": "markdown",
   "id": "6adeb863",
   "metadata": {},
   "source": [
    "6.Timedelta type"
   ]
  },
  {
   "cell_type": "code",
   "execution_count": 9,
   "id": "be5635e8",
   "metadata": {
    "scrolled": true
   },
   "outputs": [
    {
     "name": "stdout",
     "output_type": "stream",
     "text": [
      "3 days\n"
     ]
    },
    {
     "data": {
      "text/plain": [
       "dtype('<m8[D]')"
      ]
     },
     "execution_count": 9,
     "metadata": {},
     "output_type": "execute_result"
    }
   ],
   "source": [
    "a=np.timedelta64(3,'D')\n",
    "print(a)\n",
    "a.dtype"
   ]
  },
  {
   "cell_type": "markdown",
   "id": "ed4255d1",
   "metadata": {},
   "source": [
    "7.Data time type"
   ]
  },
  {
   "cell_type": "code",
   "execution_count": 8,
   "id": "67122cdc",
   "metadata": {},
   "outputs": [
    {
     "name": "stdout",
     "output_type": "stream",
     "text": [
      "['2005-02-25' '2005-02-22' '2006-03-25']\n",
      "datetime64[D]\n"
     ]
    }
   ],
   "source": [
    "arr=np.array(['2005-02-25','2005-02-22','2006-03-25'],dtype='M')\n",
    "print(arr)\n",
    "print(arr.dtype)"
   ]
  },
  {
   "cell_type": "markdown",
   "id": "33aece8a",
   "metadata": {},
   "source": [
    "8.Object type"
   ]
  },
  {
   "cell_type": "code",
   "execution_count": 10,
   "id": "246187f2",
   "metadata": {},
   "outputs": [
    {
     "name": "stdout",
     "output_type": "stream",
     "text": [
      "[1 2 3 4]\n",
      "object\n"
     ]
    }
   ],
   "source": [
    "arr = np.array([1, 2, 3, 4], dtype='O')\n",
    "\n",
    "print(arr)\n",
    "print(arr.dtype)"
   ]
  },
  {
   "cell_type": "markdown",
   "id": "c086f1c8",
   "metadata": {},
   "source": [
    "9.String type"
   ]
  },
  {
   "cell_type": "code",
   "execution_count": 13,
   "id": "7b797afc",
   "metadata": {},
   "outputs": [
    {
     "name": "stdout",
     "output_type": "stream",
     "text": [
      "[b'BTS' b'TXT' b'NCT']\n",
      "|S3\n"
     ]
    }
   ],
   "source": [
    "arr = np.array([\"BTS\",\"TXT\",\"NCT\"], dtype='S')\n",
    "\n",
    "print(arr)\n",
    "print(arr.dtype)"
   ]
  },
  {
   "cell_type": "markdown",
   "id": "6b84db7c",
   "metadata": {},
   "source": [
    "10.Unicode string type"
   ]
  },
  {
   "cell_type": "code",
   "execution_count": 14,
   "id": "4b635831",
   "metadata": {},
   "outputs": [
    {
     "name": "stdout",
     "output_type": "stream",
     "text": [
      "['Δ' 'µZ' 'µF' '∂r']\n",
      "<U2\n"
     ]
    }
   ],
   "source": [
    "a=np.array([u'\\u0394', u'\\265Z', u'\\265F', u'\\u2202r'])\n",
    "print(a)\n",
    "print(a.dtype)"
   ]
  },
  {
   "cell_type": "markdown",
   "id": "00228493",
   "metadata": {},
   "source": [
    "11.void"
   ]
  },
  {
   "cell_type": "code",
   "execution_count": 15,
   "id": "5e012152",
   "metadata": {},
   "outputs": [
    {
     "name": "stdout",
     "output_type": "stream",
     "text": [
      "[]\n",
      "|V8\n"
     ]
    }
   ],
   "source": [
    "a=np.array([],dtype='V')\n",
    "print(a)\n",
    "print(a.dtype)"
   ]
  }
 ],
 "metadata": {
  "kernelspec": {
   "display_name": "Python 3",
   "language": "python",
   "name": "python3"
  },
  "language_info": {
   "codemirror_mode": {
    "name": "ipython",
    "version": 3
   },
   "file_extension": ".py",
   "mimetype": "text/x-python",
   "name": "python",
   "nbconvert_exporter": "python",
   "pygments_lexer": "ipython3",
   "version": "3.8.8"
  }
 },
 "nbformat": 4,
 "nbformat_minor": 5
}
