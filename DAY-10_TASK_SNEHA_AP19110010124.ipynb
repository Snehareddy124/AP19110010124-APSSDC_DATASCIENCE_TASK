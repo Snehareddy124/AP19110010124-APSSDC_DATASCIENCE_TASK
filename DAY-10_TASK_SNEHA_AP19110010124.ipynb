{
 "cells": [
  {
   "cell_type": "markdown",
   "id": "dad0caab",
   "metadata": {},
   "source": [
    "## T.Sneha Reddy\n",
    "## AP19110010124,CSE.\n",
    "### DAY-10 TASK(17/6/21)\n",
    "\n",
    "\n",
    "### **Task**\n",
    "Generate 3- digit OTP from 2 different Classes. (Mail class and Phone Class)   \n",
    "Return 6 digit OTP frm BaseClasses. (SuperClasses)\n",
    "\n"
   ]
  },
  {
   "cell_type": "code",
   "execution_count": 1,
   "id": "fd940afe",
   "metadata": {},
   "outputs": [],
   "source": [
    "import random\n",
    "\n",
    "class Mail:\n",
    "    def __init__(self):\n",
    "        self.a = random.randint(100,999)\n",
    "class Phone:\n",
    "    def __init__(self):\n",
    "        self.b = random.randint(100,999)\n",
    "\n",
    "class OTP(Mail,Phone):\n",
    "    def __init__(self):\n",
    "        Mail.__init__(self)\n",
    "        Phone.__init__(self)\n",
    "        print(\"6-digit OTP Generated is {}{}\".format(self.a,self.b))"
   ]
  },
  {
   "cell_type": "code",
   "execution_count": 2,
   "id": "71e32f84",
   "metadata": {},
   "outputs": [
    {
     "name": "stdout",
     "output_type": "stream",
     "text": [
      "6-digit OTP Generated is 488875\n"
     ]
    }
   ],
   "source": [
    "obj_otp = OTP()\n"
   ]
  }
 ],
 "metadata": {
  "kernelspec": {
   "display_name": "Python 3",
   "language": "python",
   "name": "python3"
  },
  "language_info": {
   "codemirror_mode": {
    "name": "ipython",
    "version": 3
   },
   "file_extension": ".py",
   "mimetype": "text/x-python",
   "name": "python",
   "nbconvert_exporter": "python",
   "pygments_lexer": "ipython3",
   "version": "3.8.8"
  }
 },
 "nbformat": 4,
 "nbformat_minor": 5
}
