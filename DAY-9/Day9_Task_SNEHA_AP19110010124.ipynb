{
 "cells": [
  {
   "cell_type": "markdown",
   "id": "1c7eb7b4",
   "metadata": {},
   "source": [
    "## T.SNEHA REDDY.\n",
    "## AP19110010124,CSE.\n",
    "### Day9 Task(16-06-2021)\n",
    "\n",
    "## Task\n",
    "* Write a prograam in module\n",
    "* ask the user to enter the data\n",
    "* check the data if its camelcase print Like(thumbsup) emoji\n",
    "* else convert it into camelcase then speakout Successfully converted your data into Camelcase"
   ]
  },
  {
   "cell_type": "code",
   "execution_count": 4,
   "id": "ba2db1cb",
   "metadata": {},
   "outputs": [
    {
     "name": "stdout",
     "output_type": "stream",
     "text": [
      "Enter the string: SNEHA\n"
     ]
    },
    {
     "data": {
      "text/plain": [
       "'It is in camel Case 👍'"
      ]
     },
     "execution_count": 4,
     "metadata": {},
     "output_type": "execute_result"
    }
   ],
   "source": [
    "import module1\n",
    "\n",
    "s1=input(\"Enter the string: \")\n",
    "module1.call(s1)"
   ]
  }
 ],
 "metadata": {
  "kernelspec": {
   "display_name": "Python 3",
   "language": "python",
   "name": "python3"
  },
  "language_info": {
   "codemirror_mode": {
    "name": "ipython",
    "version": 3
   },
   "file_extension": ".py",
   "mimetype": "text/x-python",
   "name": "python",
   "nbconvert_exporter": "python",
   "pygments_lexer": "ipython3",
   "version": "3.8.8"
  }
 },
 "nbformat": 4,
 "nbformat_minor": 5
}
