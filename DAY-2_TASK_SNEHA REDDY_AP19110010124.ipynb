{
 "cells": [
  {
   "cell_type": "markdown",
   "id": "cb35b11b",
   "metadata": {},
   "source": [
    "# --T. SNEHA REDDY\n",
    "\n",
    "# --AP1910010124(CSE)\n",
    "\n",
    "### - DAY-2"
   ]
  },
  {
   "cell_type": "markdown",
   "id": "e0a5c636",
   "metadata": {},
   "source": [
    "**TASK:**\n",
    "\n",
    "1.Write a program to check wheather the user eligible for vote or not\n",
    "\n",
    "2.Check the given number is positive or negative\n",
    "\n",
    "3.Check the given number is even or odd if it's even check which is divisible by 4 or not\n",
    "\n",
    "4.Write a program to print student grade based on persentage like Distinction,pass or fail\n",
    "\n",
    "5.Check the given year is Leap or not"
   ]
  },
  {
   "cell_type": "markdown",
   "id": "330675ba",
   "metadata": {},
   "source": [
    "  Write a program to check wheather the user eligible for vote or not\n"
   ]
  },
  {
   "cell_type": "code",
   "execution_count": 3,
   "id": "565e6980",
   "metadata": {},
   "outputs": [
    {
     "name": "stdout",
     "output_type": "stream",
     "text": [
      "Enter age: 18\n",
      "Eligible for vote\n"
     ]
    }
   ],
   "source": [
    "def is_eligible(age):\n",
    "    if age >= 18:\n",
    "        return \"Eligible for vote\"\n",
    "    return \"Not eligible for vote\"\n",
    "print(is_eligible(int(input(\"Enter age: \"))))"
   ]
  },
  {
   "cell_type": "markdown",
   "id": "6ec80f5c",
   "metadata": {},
   "source": [
    "2. Check the given number is positive or negative"
   ]
  },
  {
   "cell_type": "code",
   "execution_count": 4,
   "id": "46da6538",
   "metadata": {},
   "outputs": [
    {
     "name": "stdout",
     "output_type": "stream",
     "text": [
      "Enter Your Number5\n",
      "5.0 is Positive Number\n"
     ]
    }
   ],
   "source": [
    "your_num = float(input(\"Enter Your Number\"))\n",
    "if your_num>0 :\n",
    "    print(\"{} is Positive Number\".format(your_num))\n",
    "elif your_num<0 :\n",
    "    print(\"{} is Negative Number\".format(your_num))\n",
    "else :\n",
    "    print(\"Number is zero\")"
   ]
  },
  {
   "cell_type": "markdown",
   "id": "04cbb530",
   "metadata": {},
   "source": [
    " Check the given number is even or odd if it's even check which is divisible by 4 or not"
   ]
  },
  {
   "cell_type": "code",
   "execution_count": 5,
   "id": "840eae9f",
   "metadata": {},
   "outputs": [
    {
     "name": "stdout",
     "output_type": "stream",
     "text": [
      "Enter any integer: 42\n",
      "The Given Number is an even number\n",
      "42 is not divisible by 4\n"
     ]
    }
   ],
   "source": [
    "given_number = int(input(\"Enter any integer: \"))\n",
    "if given_number%2==0:\n",
    "    print(\"The Given Number is an even number\")\n",
    "    if given_number%4==0:\n",
    "        print(\"{} is divisible by 4\".format(given_number))\n",
    "    else:\n",
    "        print(\"{} is not divisible by 4\".format(given_number))\n",
    "else:\n",
    "    print(\"The Given Number is an odd number\")\n",
    "    "
   ]
  },
  {
   "cell_type": "markdown",
   "id": "cfa043da",
   "metadata": {},
   "source": [
    "Write a program to print student grade based on persentage like Distinction,pass or fail"
   ]
  },
  {
   "cell_type": "code",
   "execution_count": 6,
   "id": "f5c50d70",
   "metadata": {},
   "outputs": [
    {
     "name": "stdout",
     "output_type": "stream",
     "text": [
      "Enter sub1 Marks out of 100: 92\n",
      "Enter sub2 Marks out of 100: 100\n",
      "Enter sub3 Marks out of 100: 97\n",
      "Enter sub4 Marks out of 100: 96\n",
      "Enter sub5 Marks out of 100: 98\n",
      "The percentage of marks is 96.6\n",
      "The student got distinction\n"
     ]
    }
   ],
   "source": [
    "sub1 = float(input(\"Enter sub1 Marks out of 100: \"))\n",
    "sub2 = float(input(\"Enter sub2 Marks out of 100: \"))\n",
    "sub3 = float(input(\"Enter sub3 Marks out of 100: \"))\n",
    "sub4 = float(input(\"Enter sub4 Marks out of 100: \"))\n",
    "sub5 = float(input(\"Enter sub5 Marks out of 100: \"))\n",
    "total = sub1 + sub2 + sub3 + sub4 + sub5\n",
    "percentage = (total / 500) * 100\n",
    "print(\"The percentage of marks is {}\".format(round(percentage, 2)))\n",
    "if percentage>=80:\n",
    "    print(\"The student got distinction\")\n",
    "elif percentage>=50:\n",
    "    print(\"The student got passed in examinations\")\n",
    "else:\n",
    "    print(\"The student got failed in examinations\")"
   ]
  },
  {
   "cell_type": "markdown",
   "id": "17f9716b",
   "metadata": {},
   "source": [
    "Check the given year is Leap or not"
   ]
  },
  {
   "cell_type": "code",
   "execution_count": 7,
   "id": "e12624ab",
   "metadata": {},
   "outputs": [
    {
     "name": "stdout",
     "output_type": "stream",
     "text": [
      "Enter Year: 2020\n",
      "2020 is a Leap Year\n"
     ]
    }
   ],
   "source": [
    "Year = int(input(\"Enter Year: \"))\n",
    "if Year % 4 == 0 and Year % 100 != 0:\n",
    "    print(\"{} is a Leap Year\".format(Year))\n",
    "elif Year % 100 == 0:\n",
    "    print(\"{} is not a Leap Year\".format(Year))\n",
    "elif Year % 400 ==0:\n",
    "    print(Year, \"is a Leap Year\")\n",
    "else:\n",
    "    print(Year, \"is not a Leap Year\")"
   ]
  },
  {
   "cell_type": "code",
   "execution_count": null,
   "id": "c04c717d",
   "metadata": {},
   "outputs": [],
   "source": []
  }
 ],
 "metadata": {
  "kernelspec": {
   "display_name": "Python 3",
   "language": "python",
   "name": "python3"
  },
  "language_info": {
   "codemirror_mode": {
    "name": "ipython",
    "version": 3
   },
   "file_extension": ".py",
   "mimetype": "text/x-python",
   "name": "python",
   "nbconvert_exporter": "python",
   "pygments_lexer": "ipython3",
   "version": "3.8.8"
  }
 },
 "nbformat": 4,
 "nbformat_minor": 5
}
