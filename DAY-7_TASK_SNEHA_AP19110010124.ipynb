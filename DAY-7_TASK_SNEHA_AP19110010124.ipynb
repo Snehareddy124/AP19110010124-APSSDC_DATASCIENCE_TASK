{
 "cells": [
  {
   "cell_type": "markdown",
   "id": "7a60db03",
   "metadata": {},
   "source": [
    "## T.Sneha Reddy\n",
    "## AP19110010124, CSE.\n",
    "### DAY-7 TASK(14/6/21)\n",
    "\n",
    "**Tasks**\n",
    "\n",
    "1.Program to print 4 digit numbers from list\n",
    "\n",
    "2.Validate a phone number using patterns"
   ]
  },
  {
   "cell_type": "markdown",
   "id": "7f5f1d65",
   "metadata": {},
   "source": [
    "**TASK 1**\n"
   ]
  },
  {
   "cell_type": "code",
   "execution_count": 1,
   "id": "a5a46e2f",
   "metadata": {},
   "outputs": [
    {
     "name": "stdout",
     "output_type": "stream",
     "text": [
      "5245\n",
      "4875\n",
      "6395\n",
      "9874\n"
     ]
    }
   ],
   "source": [
    "import re\n",
    "\n",
    "list2=[100,5245,4875,548,1,54,6395,9874]\n",
    "\n",
    "for i in list2:\n",
    "    if re.findall('^[0-9]{4}$', str(i)):\n",
    "        print(i)"
   ]
  },
  {
   "cell_type": "markdown",
   "id": "975642e5",
   "metadata": {},
   "source": [
    "**TASK 2**"
   ]
  },
  {
   "cell_type": "code",
   "execution_count": 2,
   "id": "a885ab1e",
   "metadata": {},
   "outputs": [
    {
     "name": "stdout",
     "output_type": "stream",
     "text": [
      "9898079550\n",
      "9987455212\n",
      "9705795500\n",
      "9854781254\n",
      "9354789512\n",
      "9456178524\n",
      "9705412369\n"
     ]
    }
   ],
   "source": [
    "phone_list=[9898079550,9987455212,9705795500,9854781254,9354789512,9456178524,9705412369]\n",
    "\n",
    "for i in phone_list:\n",
    "    if re.findall('[6-9]{1}[0-9]{9}$',str(i)):\n",
    "        print(i)"
   ]
  }
 ],
 "metadata": {
  "kernelspec": {
   "display_name": "Python 3",
   "language": "python",
   "name": "python3"
  },
  "language_info": {
   "codemirror_mode": {
    "name": "ipython",
    "version": 3
   },
   "file_extension": ".py",
   "mimetype": "text/x-python",
   "name": "python",
   "nbconvert_exporter": "python",
   "pygments_lexer": "ipython3",
   "version": "3.8.8"
  }
 },
 "nbformat": 4,
 "nbformat_minor": 5
}
