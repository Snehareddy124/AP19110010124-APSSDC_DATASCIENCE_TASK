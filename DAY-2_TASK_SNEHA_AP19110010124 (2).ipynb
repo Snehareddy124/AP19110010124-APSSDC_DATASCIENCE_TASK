{
 "cells": [
  {
   "cell_type": "markdown",
   "id": "71c0a10b",
   "metadata": {},
   "source": [
    "# --T. SNEHA REDDY\n",
    "\n",
    "# --AP1910010124(CSE)\n",
    "\n",
    "### - DAY-2"
   ]
  },
  {
   "cell_type": "markdown",
   "id": "d1597d15",
   "metadata": {},
   "source": [
    "**TASK:**\n",
    "\n",
    "1.Write a program to check wheather the user eligible for vote or not\n",
    "\n",
    "2.Check the given number is positive or negative\n",
    "\n",
    "3.Check the given number is even or odd if it's even check which is divisible by 4 or not\n",
    "\n",
    "4.Write a program to print student grade based on persentage like Distinction,pass or fail\n",
    "\n",
    "5.Check the given year is Leap or not"
   ]
  },
  {
   "cell_type": "markdown",
   "id": "4f09178e",
   "metadata": {},
   "source": [
    "Write a program to check wheather the user eligible for vote or not\n"
   ]
  },
  {
   "cell_type": "code",
   "execution_count": 3,
   "id": "e4cce148",
   "metadata": {},
   "outputs": [
    {
     "name": "stdout",
     "output_type": "stream",
     "text": [
      "Enter age: 18\n",
      "Eligible for vote\n"
     ]
    }
   ],
   "source": [
    "def is_eligible(age):\n",
    "    if age >= 18:\n",
    "        return \"Eligible for vote\"\n",
    "    return \"Not eligible for vote\"\n",
    "print(is_eligible(int(input(\"Enter age: \"))))"
   ]
  },
  {
   "cell_type": "markdown",
   "id": "43fc67a7",
   "metadata": {},
   "source": [
    "Check the given number is positive or negative"
   ]
  },
  {
   "cell_type": "code",
   "execution_count": 4,
   "id": "bf12cff9",
   "metadata": {},
   "outputs": [
    {
     "name": "stdout",
     "output_type": "stream",
     "text": [
      "Enter Your Number5\n",
      "5.0 is Positive Number\n"
     ]
    }
   ],
   "source": [
    "your_num = float(input(\"Enter Your Number\"))\n",
    "if your_num>0 :\n",
    "    print(\"{} is Positive Number\".format(your_num))\n",
    "elif your_num<0 :\n",
    "    print(\"{} is Negative Number\".format(your_num))\n",
    "else :\n",
    "    print(\"Number is zero\")"
   ]
  },
  {
   "cell_type": "markdown",
   "id": "890c6c4a",
   "metadata": {},
   "source": [
    "Check the given number is even or odd if it's even check which is divisible by 4 or not"
   ]
  },
  {
   "cell_type": "code",
   "execution_count": 5,
   "id": "58309b61",
   "metadata": {},
   "outputs": [
    {
     "name": "stdout",
     "output_type": "stream",
     "text": [
      "Enter any integer: 42\n",
      "The Given Number is an even number\n",
      "42 is not divisible by 4\n"
     ]
    }
   ],
   "source": [
    "given_number = int(input(\"Enter any integer: \"))\n",
    "if given_number%2==0:\n",
    "    print(\"The Given Number is an even number\")\n",
    "    if given_number%4==0:\n",
    "        print(\"{} is divisible by 4\".format(given_number))\n",
    "    else:\n",
    "        print(\"{} is not divisible by 4\".format(given_number))\n",
    "else:\n",
    "    print(\"The Given Number is an odd number\")\n",
    "    "
   ]
  },
  {
   "cell_type": "markdown",
   "id": "78c8ecbe",
   "metadata": {},
   "source": [
    "Write a program to print student grade based on persentage like Distinction,pass or fail"
   ]
  },
  {
   "cell_type": "code",
   "execution_count": 6,
   "id": "d59df7c6",
   "metadata": {},
   "outputs": [
    {
     "name": "stdout",
     "output_type": "stream",
     "text": [
      "Enter sub1 Marks out of 100: 92\n",
      "Enter sub2 Marks out of 100: 100\n",
      "Enter sub3 Marks out of 100: 97\n",
      "Enter sub4 Marks out of 100: 96\n",
      "Enter sub5 Marks out of 100: 98\n",
      "The percentage of marks is 96.6\n",
      "The student got distinction\n"
     ]
    }
   ],
   "source": [
    "sub1 = float(input(\"Enter sub1 Marks out of 100: \"))\n",
    "sub2 = float(input(\"Enter sub2 Marks out of 100: \"))\n",
    "sub3 = float(input(\"Enter sub3 Marks out of 100: \"))\n",
    "sub4 = float(input(\"Enter sub4 Marks out of 100: \"))\n",
    "sub5 = float(input(\"Enter sub5 Marks out of 100: \"))\n",
    "total = sub1 + sub2 + sub3 + sub4 + sub5\n",
    "percentage = (total / 500) * 100\n",
    "print(\"The percentage of marks is {}\".format(round(percentage, 2)))\n",
    "if percentage>=80:\n",
    "    print(\"The student got distinction\")\n",
    "elif percentage>=50:\n",
    "    print(\"The student got passed in examinations\")\n",
    "else:\n",
    "    print(\"The student got failed in examinations\")"
   ]
  },
  {
   "cell_type": "markdown",
   "id": "096c75e9",
   "metadata": {},
   "source": [
    "Check the given year is Leap or not"
   ]
  },
  {
   "cell_type": "code",
   "execution_count": 7,
   "id": "f520675e",
   "metadata": {},
   "outputs": [
    {
     "name": "stdout",
     "output_type": "stream",
     "text": [
      "Enter Year: 2020\n",
      "2020 is a Leap Year\n"
     ]
    }
   ],
   "source": [
    "Year = int(input(\"Enter Year: \"))\n",
    "if Year % 4 == 0 and Year % 100 != 0:\n",
    "    print(\"{} is a Leap Year\".format(Year))\n",
    "elif Year % 100 == 0:\n",
    "    print(\"{} is not a Leap Year\".format(Year))\n",
    "elif Year % 400 ==0:\n",
    "    print(Year, \"is a Leap Year\")\n",
    "else:\n",
    "    print(Year, \"is not a Leap Year\")"
   ]
  },
  {
   "cell_type": "code",
   "execution_count": null,
   "id": "908655df",
   "metadata": {},
   "outputs": [],
   "source": []
  }
 ],
 "metadata": {
  "kernelspec": {
   "display_name": "Python 3",
   "language": "python",
   "name": "python3"
  },
  "language_info": {
   "codemirror_mode": {
    "name": "ipython",
    "version": 3
   },
   "file_extension": ".py",
   "mimetype": "text/x-python",
   "name": "python",
   "nbconvert_exporter": "python",
   "pygments_lexer": "ipython3",
   "version": "3.8.8"
  }
 },
 "nbformat": 4,
 "nbformat_minor": 5
}
