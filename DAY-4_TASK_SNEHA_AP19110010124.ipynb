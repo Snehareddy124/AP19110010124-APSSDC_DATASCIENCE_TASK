{
 "cells": [
  {
   "cell_type": "markdown",
   "id": "3246bca3",
   "metadata": {},
   "source": [
    "## T. Sneha Reddy\n",
    "## AP1910010124,CSE. \n",
    "### DAY-4 TASK(10/6/21)\n"
   ]
  },
  {
   "cell_type": "markdown",
   "id": "7b90c4e4",
   "metadata": {},
   "source": [
    "**Task-1**:\n",
    "Take Input as String from the user.\n",
    "\n",
    "Check the Length of the string.\n",
    "\n",
    "If the length of the string is Odd, print the middle letter.\n",
    "\n",
    "If the length of the string is Even, print the middle two letters.\n"
   ]
  },
  {
   "cell_type": "markdown",
   "id": "4c48ed23",
   "metadata": {},
   "source": [
    "**Task 1**"
   ]
  },
  {
   "cell_type": "code",
   "execution_count": 1,
   "id": "2fca7c0d",
   "metadata": {},
   "outputs": [
    {
     "name": "stdout",
     "output_type": "stream",
     "text": [
      "Enter Your String : MAANYA\n",
      "Input string is of lenght 6\n",
      "The string is even\n",
      "Middle letters of the the String are A and N \n"
     ]
    }
   ],
   "source": [
    "##odd case\n",
    "input_string = str(input(\"Enter Your String : \"))\n",
    "len_str = len(input_string)\n",
    "print(\"Input string is of lenght {}\".format(len_str))\n",
    "if len_str % 2 != 0 :\n",
    "    print(\"The string is odd\")\n",
    "    print(\"Middle letter of the String is {}\".format(input_string[len_str // 2]))\n",
    "else:\n",
    "    print(\"The string is even\")\n",
    "    print(\"Middle letters of the the String are {} and {} \".format(input_string[(len_str-1) // 2],                                                     \n",
    "          input_string[(len_str) // 2 ]))"
   ]
  },
  {
   "cell_type": "code",
   "execution_count": 2,
   "id": "ff5c05ab",
   "metadata": {},
   "outputs": [
    {
     "name": "stdout",
     "output_type": "stream",
     "text": [
      "Enter Your String : MAYA\n",
      "Input string is of lenght 4\n",
      "The string is even\n",
      "Middle letters of the the String are A and Y \n"
     ]
    }
   ],
   "source": [
    "##even case\n",
    "input_string = str(input(\"Enter Your String : \"))\n",
    "len_str = len(input_string)\n",
    "print(\"Input string is of lenght {}\".format(len_str))\n",
    "if len_str % 2 != 0 :\n",
    "    print(\"The string is odd\")\n",
    "    print(\"Middle letter of the String is {}\".format(input_string[len_str // 2]))\n",
    "else:\n",
    "    print(\"The string is even\")\n",
    "    print(\"Middle letters of the the String are {} and {} \".format(input_string[(len_str-1) // 2],                                                     \n",
    "          input_string[(len_str) // 2 ]))"
   ]
  },
  {
   "cell_type": "code",
   "execution_count": null,
   "id": "1193085f",
   "metadata": {},
   "outputs": [],
   "source": []
  }
 ],
 "metadata": {
  "kernelspec": {
   "display_name": "Python 3",
   "language": "python",
   "name": "python3"
  },
  "language_info": {
   "codemirror_mode": {
    "name": "ipython",
    "version": 3
   },
   "file_extension": ".py",
   "mimetype": "text/x-python",
   "name": "python",
   "nbconvert_exporter": "python",
   "pygments_lexer": "ipython3",
   "version": "3.8.8"
  }
 },
 "nbformat": 4,
 "nbformat_minor": 5
}
